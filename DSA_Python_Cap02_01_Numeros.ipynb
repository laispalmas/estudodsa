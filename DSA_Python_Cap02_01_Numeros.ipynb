{
  "nbformat": 4,
  "nbformat_minor": 0,
  "metadata": {
    "colab": {
      "name": "DSA_Python_Cap02_01_Numeros.ipynb",
      "provenance": [],
      "include_colab_link": true
    },
    "kernelspec": {
      "name": "python3",
      "display_name": "Python 3"
    },
    "language_info": {
      "name": "python"
    }
  },
  "cells": [
    {
      "cell_type": "markdown",
      "metadata": {
        "id": "view-in-github",
        "colab_type": "text"
      },
      "source": [
        "<a href=\"https://colab.research.google.com/github/laispalmas/estudodsa/blob/main/DSA_Python_Cap02_01_Numeros.ipynb\" target=\"_parent\"><img src=\"https://colab.research.google.com/assets/colab-badge.svg\" alt=\"Open In Colab\"/></a>"
      ]
    },
    {
      "cell_type": "code",
      "metadata": {
        "id": "kOBBRmuR6An_"
      },
      "source": [
        ""
      ],
      "execution_count": null,
      "outputs": []
    },
    {
      "cell_type": "markdown",
      "metadata": {
        "id": "JdIwbZ9F6F9S"
      },
      "source": [
        "##Números e Operações Matemáticas"
      ]
    },
    {
      "cell_type": "code",
      "metadata": {
        "colab": {
          "base_uri": "https://localhost:8080/"
        },
        "id": "cUC4F1Z56VyI",
        "outputId": "ca9b288e-6024-4e5a-a1b9-92ac46fe599f"
      },
      "source": [
        "#Soma\n",
        "2+2"
      ],
      "execution_count": null,
      "outputs": [
        {
          "output_type": "execute_result",
          "data": {
            "text/plain": [
              "4"
            ]
          },
          "metadata": {
            "tags": []
          },
          "execution_count": 1
        }
      ]
    },
    {
      "cell_type": "code",
      "metadata": {
        "id": "bPBR67nB6Z77"
      },
      "source": [
        "#Subtração\n",
        "10-5"
      ],
      "execution_count": null,
      "outputs": []
    },
    {
      "cell_type": "code",
      "metadata": {
        "id": "F23B0THR6kqz"
      },
      "source": [
        "#Multipliacação\n",
        "5*7"
      ],
      "execution_count": null,
      "outputs": []
    },
    {
      "cell_type": "code",
      "metadata": {
        "id": "lII5j6tG6phm"
      },
      "source": [
        "#Divisão\n",
        "12/2"
      ],
      "execution_count": null,
      "outputs": []
    },
    {
      "cell_type": "code",
      "metadata": {
        "id": "NRtCKR2k6sz6"
      },
      "source": [
        "#Potência\n",
        "4**2"
      ],
      "execution_count": null,
      "outputs": []
    },
    {
      "cell_type": "code",
      "metadata": {
        "id": "GHR0iLnV67j-"
      },
      "source": [
        "#Módulo\n",
        "10%3"
      ],
      "execution_count": null,
      "outputs": []
    },
    {
      "cell_type": "markdown",
      "metadata": {
        "id": "A44TVOTt7MLU"
      },
      "source": [
        "##Função Type"
      ]
    },
    {
      "cell_type": "code",
      "metadata": {
        "id": "j4BGaHs07Pnt",
        "colab": {
          "base_uri": "https://localhost:8080/"
        },
        "outputId": "3e72a70b-380b-4a19-a588-f5e87a13f479"
      },
      "source": [
        "type(5)"
      ],
      "execution_count": null,
      "outputs": [
        {
          "output_type": "execute_result",
          "data": {
            "text/plain": [
              "int"
            ]
          },
          "metadata": {
            "tags": []
          },
          "execution_count": 3
        }
      ]
    },
    {
      "cell_type": "code",
      "metadata": {
        "id": "lyjGrlMf7Vsn",
        "colab": {
          "base_uri": "https://localhost:8080/"
        },
        "outputId": "22ec31dd-2863-48c6-a7d3-2a7041981833"
      },
      "source": [
        "type(5.0)"
      ],
      "execution_count": null,
      "outputs": [
        {
          "output_type": "execute_result",
          "data": {
            "text/plain": [
              "float"
            ]
          },
          "metadata": {
            "tags": []
          },
          "execution_count": 4
        }
      ]
    },
    {
      "cell_type": "code",
      "metadata": {
        "id": "B5oQBvEB7apv",
        "colab": {
          "base_uri": "https://localhost:8080/"
        },
        "outputId": "a9f7ffd7-ffeb-47b7-f2ac-1230ad020b21"
      },
      "source": [
        "a='Eu sou uma string'\n",
        "type(a)"
      ],
      "execution_count": null,
      "outputs": [
        {
          "output_type": "execute_result",
          "data": {
            "text/plain": [
              "str"
            ]
          },
          "metadata": {
            "tags": []
          },
          "execution_count": 2
        }
      ]
    },
    {
      "cell_type": "code",
      "metadata": {
        "id": "8AnytIUn7u6o"
      },
      "source": [
        ""
      ],
      "execution_count": null,
      "outputs": []
    },
    {
      "cell_type": "markdown",
      "metadata": {
        "id": "vYxxbuf57wFS"
      },
      "source": [
        "Operação com os números float"
      ]
    },
    {
      "cell_type": "code",
      "metadata": {
        "id": "ok6d15l_7z7x"
      },
      "source": [
        "3.1+5.4"
      ],
      "execution_count": null,
      "outputs": []
    },
    {
      "cell_type": "code",
      "metadata": {
        "id": "iBVoPUv775F4"
      },
      "source": [
        "4+3.5"
      ],
      "execution_count": null,
      "outputs": []
    },
    {
      "cell_type": "code",
      "metadata": {
        "id": "PqJL5xxL7-Vg"
      },
      "source": [
        "#Resultado é um número float\n",
        "4/2"
      ],
      "execution_count": null,
      "outputs": []
    },
    {
      "cell_type": "code",
      "metadata": {
        "id": "IX7uL44L8E_N"
      },
      "source": [
        "#Resultado é um número inteiro\n",
        "4//2"
      ],
      "execution_count": null,
      "outputs": []
    },
    {
      "cell_type": "code",
      "metadata": {
        "id": "JtH50JEk8Ip0"
      },
      "source": [
        "4/3.0"
      ],
      "execution_count": null,
      "outputs": []
    },
    {
      "cell_type": "code",
      "metadata": {
        "id": "wHiDCQOc8Ny_"
      },
      "source": [
        "4//3.0"
      ],
      "execution_count": null,
      "outputs": []
    },
    {
      "cell_type": "markdown",
      "metadata": {
        "id": "vlFY5ZQ68d-C"
      },
      "source": [
        "##Conversão"
      ]
    },
    {
      "cell_type": "code",
      "metadata": {
        "id": "rgxX0oSE8faq"
      },
      "source": [
        "float(9)"
      ],
      "execution_count": null,
      "outputs": []
    },
    {
      "cell_type": "code",
      "metadata": {
        "id": "zD2TMP1Q8k0M"
      },
      "source": [
        "int(6.0)"
      ],
      "execution_count": null,
      "outputs": []
    },
    {
      "cell_type": "code",
      "metadata": {
        "id": "BAfJfJ4y8n7m"
      },
      "source": [
        "int(6.5)"
      ],
      "execution_count": null,
      "outputs": []
    },
    {
      "cell_type": "markdown",
      "metadata": {
        "id": "Vpgl6ffn80OU"
      },
      "source": [
        "##Hexadecimal e Binário"
      ]
    },
    {
      "cell_type": "code",
      "metadata": {
        "id": "VMulRSdk83pg"
      },
      "source": [
        "hex(349)"
      ],
      "execution_count": null,
      "outputs": []
    },
    {
      "cell_type": "code",
      "metadata": {
        "id": "J_bUsxSk87IT"
      },
      "source": [
        "hex(217)"
      ],
      "execution_count": null,
      "outputs": []
    },
    {
      "cell_type": "code",
      "metadata": {
        "id": "Ihjwy-IX8-Tp"
      },
      "source": [
        "bin(286)"
      ],
      "execution_count": null,
      "outputs": []
    },
    {
      "cell_type": "code",
      "metadata": {
        "id": "vzE1bY6L9CgS"
      },
      "source": [
        "bin(390)"
      ],
      "execution_count": null,
      "outputs": []
    },
    {
      "cell_type": "markdown",
      "metadata": {
        "id": "cvpUhVam9KoS"
      },
      "source": [
        "##Funções abs, round e pow"
      ]
    },
    {
      "cell_type": "code",
      "metadata": {
        "id": "bRkR2orG9S42"
      },
      "source": [
        "#Retornar o valor absoluto\n",
        "abs(-8)"
      ],
      "execution_count": null,
      "outputs": []
    },
    {
      "cell_type": "code",
      "metadata": {
        "id": "jL49225Z9bXE"
      },
      "source": [
        "#Retornar ao valor absoluto\n",
        "abs(8)"
      ],
      "execution_count": null,
      "outputs": []
    },
    {
      "cell_type": "code",
      "metadata": {
        "id": "JTHFnzGl9k4z"
      },
      "source": [
        "#Retornar o valor com arredondamento\n",
        "round(3.14151922,2)"
      ],
      "execution_count": null,
      "outputs": []
    },
    {
      "cell_type": "code",
      "metadata": {
        "id": "4vsLbpEr9zGe"
      },
      "source": [
        "#Potência\n",
        "pow(4,2)"
      ],
      "execution_count": null,
      "outputs": []
    },
    {
      "cell_type": "code",
      "metadata": {
        "id": "XyMXBhEw98PC"
      },
      "source": [
        "#Potência\n",
        "pow(5,3)"
      ],
      "execution_count": null,
      "outputs": []
    }
  ]
}