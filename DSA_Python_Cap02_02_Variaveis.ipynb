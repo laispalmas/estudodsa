{
  "nbformat": 4,
  "nbformat_minor": 0,
  "metadata": {
    "colab": {
      "name": "DSA-Python-Cap02-02-Variaveis.ipynb",
      "provenance": [],
      "authorship_tag": "ABX9TyOu94zZYiFTDwF8ChdhoGZ6",
      "include_colab_link": true
    },
    "kernelspec": {
      "name": "python3",
      "display_name": "Python 3"
    },
    "language_info": {
      "name": "python"
    }
  },
  "cells": [
    {
      "cell_type": "markdown",
      "metadata": {
        "id": "view-in-github",
        "colab_type": "text"
      },
      "source": [
        "<a href=\"https://colab.research.google.com/github/laispalmas/estudodsa/blob/main/DSA_Python_Cap02_02_Variaveis.ipynb\" target=\"_parent\"><img src=\"https://colab.research.google.com/assets/colab-badge.svg\" alt=\"Open In Colab\"/></a>"
      ]
    },
    {
      "cell_type": "markdown",
      "metadata": {
        "id": "CADwIeW2BtB1"
      },
      "source": [
        "##Variáveis e Operadores"
      ]
    },
    {
      "cell_type": "code",
      "metadata": {
        "id": "N7y51EdeBv8G"
      },
      "source": [
        "#Atribuindo o valor 1 à variável var_teste\n",
        "var_teste=1"
      ],
      "execution_count": null,
      "outputs": []
    },
    {
      "cell_type": "code",
      "metadata": {
        "id": "3tWAm3HACA4C"
      },
      "source": [
        "#Imprimindo o valor da variável\n",
        "print(var_teste)"
      ],
      "execution_count": null,
      "outputs": []
    },
    {
      "cell_type": "code",
      "metadata": {
        "id": "7aPXCDZrCMWE"
      },
      "source": [
        "#Imprmindo o valor da variável\n",
        "var_teste"
      ],
      "execution_count": null,
      "outputs": []
    },
    {
      "cell_type": "code",
      "metadata": {
        "id": "hjCFCxcECnj_"
      },
      "source": [
        "#Não podemos utilizar uma variável que não foi definida. Veja a mensagem de erro\n",
        "my_var"
      ],
      "execution_count": null,
      "outputs": []
    },
    {
      "cell_type": "code",
      "metadata": {
        "id": "_Yo8JuLYC2Rm"
      },
      "source": [
        "var_teste=2"
      ],
      "execution_count": null,
      "outputs": []
    },
    {
      "cell_type": "code",
      "metadata": {
        "id": "KUrym0EdC5EU"
      },
      "source": [
        "var_teste"
      ],
      "execution_count": null,
      "outputs": []
    },
    {
      "cell_type": "code",
      "metadata": {
        "id": "sOFkWfrUC8Mc"
      },
      "source": [
        "type(var_teste)"
      ],
      "execution_count": null,
      "outputs": []
    },
    {
      "cell_type": "code",
      "metadata": {
        "id": "OHnxLzN2DCo7"
      },
      "source": [
        "var_teste=9.5"
      ],
      "execution_count": null,
      "outputs": []
    },
    {
      "cell_type": "code",
      "metadata": {
        "id": "-5YD2ICEDJNp"
      },
      "source": [
        "type(var_teste)"
      ],
      "execution_count": null,
      "outputs": []
    },
    {
      "cell_type": "code",
      "metadata": {
        "id": "5BmwLkLjDPnY"
      },
      "source": [
        "x=1"
      ],
      "execution_count": null,
      "outputs": []
    },
    {
      "cell_type": "code",
      "metadata": {
        "id": "eJEyV7GiDS4E"
      },
      "source": [
        "x"
      ],
      "execution_count": null,
      "outputs": []
    },
    {
      "cell_type": "markdown",
      "metadata": {
        "id": "tMwhEQKADWw_"
      },
      "source": [
        "##Declaração Múltipla"
      ]
    },
    {
      "cell_type": "code",
      "metadata": {
        "id": "9i6NAuj_DZrD"
      },
      "source": [
        "pessoa1,pessoa2, pessoa3 = \"Maria\",\"José\", \"João\""
      ],
      "execution_count": null,
      "outputs": []
    },
    {
      "cell_type": "code",
      "metadata": {
        "id": "JoBCpVh-Dj4Y"
      },
      "source": [
        "pessoa1"
      ],
      "execution_count": null,
      "outputs": []
    },
    {
      "cell_type": "code",
      "metadata": {
        "id": "W4C-Wx67Dl2P"
      },
      "source": [
        "pessoa2"
      ],
      "execution_count": null,
      "outputs": []
    },
    {
      "cell_type": "code",
      "metadata": {
        "id": "aRK2i9H3DoEE"
      },
      "source": [
        "pessoa3"
      ],
      "execution_count": null,
      "outputs": []
    },
    {
      "cell_type": "code",
      "metadata": {
        "id": "KNX2U0QfDsp8"
      },
      "source": [
        "fruta1 = fruta2 = fruta3 = \"Laranja\""
      ],
      "execution_count": null,
      "outputs": []
    },
    {
      "cell_type": "code",
      "metadata": {
        "id": "nM44FH-9D1Re"
      },
      "source": [
        "fruta1"
      ],
      "execution_count": null,
      "outputs": []
    },
    {
      "cell_type": "code",
      "metadata": {
        "id": "24TZNXdBD3Ye"
      },
      "source": [
        "fruta2"
      ],
      "execution_count": null,
      "outputs": []
    },
    {
      "cell_type": "code",
      "metadata": {
        "id": "O1gTPDYgD9YE"
      },
      "source": [
        "Fruta2"
      ],
      "execution_count": null,
      "outputs": []
    },
    {
      "cell_type": "code",
      "metadata": {
        "id": "bTPftyJYD_CY"
      },
      "source": [
        ""
      ],
      "execution_count": null,
      "outputs": []
    },
    {
      "cell_type": "markdown",
      "metadata": {
        "id": "uQqTyVMxEIuA"
      },
      "source": [
        "##Pode-se usar letra, número e underline, mas não pode começar com número"
      ]
    },
    {
      "cell_type": "code",
      "metadata": {
        "id": "fEh2Oy5LEQqY"
      },
      "source": [
        "x1=50"
      ],
      "execution_count": null,
      "outputs": []
    },
    {
      "cell_type": "code",
      "metadata": {
        "id": "JwmlzrjyEVOg"
      },
      "source": [
        "x1"
      ],
      "execution_count": null,
      "outputs": []
    },
    {
      "cell_type": "code",
      "metadata": {
        "id": "2MyWhMZIEWbB"
      },
      "source": [
        "1x=34"
      ],
      "execution_count": null,
      "outputs": []
    },
    {
      "cell_type": "markdown",
      "metadata": {
        "id": "uJHFvJkREgwd"
      },
      "source": [
        "##Não pode-se usarpalavras reservadas como variável\n",
        "\n",
        "False\n",
        "class\n",
        "finaly\n",
        "is\n",
        "returne\n",
        "None\n",
        "continue\n",
        "for\n",
        "lambda\n",
        "try\n",
        "True\n",
        "def\n",
        "from\n",
        "nonlocal\n",
        "while\n",
        "and\n",
        "del\n",
        "global\n",
        "not\n",
        "with\n",
        "as\n",
        "elif\n",
        "if\n",
        "or\n",
        "yeld\n",
        "assert\n",
        "else\n",
        "import\n",
        "pass\n",
        "break\n",
        "except\n",
        "in\n",
        "raise"
      ]
    },
    {
      "cell_type": "markdown",
      "metadata": {
        "id": "IWG9huxoFgUK"
      },
      "source": [
        "##Variáveis atribulidas à outras variáveis e ordens dos operadores"
      ]
    },
    {
      "cell_type": "code",
      "metadata": {
        "id": "JfHGzbqrFokz"
      },
      "source": [
        "largura = 2"
      ],
      "execution_count": null,
      "outputs": []
    },
    {
      "cell_type": "code",
      "metadata": {
        "id": "Mlw7iiZJFuS_"
      },
      "source": [
        "altura = 4"
      ],
      "execution_count": null,
      "outputs": []
    },
    {
      "cell_type": "code",
      "metadata": {
        "id": "Vs28dl2PFzEO"
      },
      "source": [
        "area = altura*largura"
      ],
      "execution_count": null,
      "outputs": []
    },
    {
      "cell_type": "code",
      "metadata": {
        "id": "sEfExAicF8Kk"
      },
      "source": [
        "area"
      ],
      "execution_count": null,
      "outputs": []
    },
    {
      "cell_type": "code",
      "metadata": {
        "id": "Vl_Lyg1zF9YL"
      },
      "source": [
        "perimetro = 2 * (largura + 2) *altura"
      ],
      "execution_count": null,
      "outputs": []
    },
    {
      "cell_type": "code",
      "metadata": {
        "id": "cEVJFoKGGHAN"
      },
      "source": [
        "perimetro"
      ],
      "execution_count": null,
      "outputs": []
    },
    {
      "cell_type": "markdown",
      "metadata": {
        "id": "vmoLQ_mhGPNO"
      },
      "source": [
        "##Operações com variáveis"
      ]
    },
    {
      "cell_type": "code",
      "metadata": {
        "id": "YVQ51JTkGSea"
      },
      "source": [
        "idade1 = 25"
      ],
      "execution_count": null,
      "outputs": []
    },
    {
      "cell_type": "code",
      "metadata": {
        "id": "XGxl6kGsGXV5"
      },
      "source": [
        "idade2 = 32"
      ],
      "execution_count": null,
      "outputs": []
    },
    {
      "cell_type": "code",
      "metadata": {
        "colab": {
          "base_uri": "https://localhost:8080/"
        },
        "id": "x9iT0k12GZ4o",
        "outputId": "dca74d9b-75bc-490d-fbce-3fc8c5b2a397"
      },
      "source": [
        "idade1 + idade2"
      ],
      "execution_count": null,
      "outputs": [
        {
          "output_type": "execute_result",
          "data": {
            "text/plain": [
              "57"
            ]
          },
          "metadata": {
            "tags": []
          },
          "execution_count": 43
        }
      ]
    },
    {
      "cell_type": "code",
      "metadata": {
        "colab": {
          "base_uri": "https://localhost:8080/"
        },
        "id": "B1Md5SNvJj2r",
        "outputId": "ebba1aa2-4d25-407f-ed8a-5667e5eaf327"
      },
      "source": [
        "idade2 - idade1"
      ],
      "execution_count": null,
      "outputs": [
        {
          "output_type": "execute_result",
          "data": {
            "text/plain": [
              "7"
            ]
          },
          "metadata": {
            "tags": []
          },
          "execution_count": 44
        }
      ]
    },
    {
      "cell_type": "code",
      "metadata": {
        "colab": {
          "base_uri": "https://localhost:8080/"
        },
        "id": "3VugFrb7JnBv",
        "outputId": "849fcc57-2b59-4c68-8939-808c577807bd"
      },
      "source": [
        "idade1 * idade2 "
      ],
      "execution_count": null,
      "outputs": [
        {
          "output_type": "execute_result",
          "data": {
            "text/plain": [
              "800"
            ]
          },
          "metadata": {
            "tags": []
          },
          "execution_count": 48
        }
      ]
    },
    {
      "cell_type": "code",
      "metadata": {
        "colab": {
          "base_uri": "https://localhost:8080/"
        },
        "id": "_WVZZbj-JvoU",
        "outputId": "be6dd7ad-78a2-4d3e-ccb2-4bcc98c3c8da"
      },
      "source": [
        "idade2 / idade1"
      ],
      "execution_count": null,
      "outputs": [
        {
          "output_type": "execute_result",
          "data": {
            "text/plain": [
              "1.28"
            ]
          },
          "metadata": {
            "tags": []
          },
          "execution_count": 50
        }
      ]
    },
    {
      "cell_type": "code",
      "metadata": {
        "colab": {
          "base_uri": "https://localhost:8080/"
        },
        "id": "M0WycRYzJ1RX",
        "outputId": "df88fd51-c4b5-42e9-f95c-4e5bc41fb027"
      },
      "source": [
        "idade2 % idade1"
      ],
      "execution_count": null,
      "outputs": [
        {
          "output_type": "execute_result",
          "data": {
            "text/plain": [
              "7"
            ]
          },
          "metadata": {
            "tags": []
          },
          "execution_count": 51
        }
      ]
    },
    {
      "cell_type": "code",
      "metadata": {
        "id": "EwwI72cpJ36P"
      },
      "source": [
        ""
      ],
      "execution_count": null,
      "outputs": []
    },
    {
      "cell_type": "markdown",
      "metadata": {
        "id": "5N-BDiyqJ9Ju"
      },
      "source": [
        "##Concatenização de Variáveis"
      ]
    },
    {
      "cell_type": "code",
      "metadata": {
        "id": "gCwrUpG8KAH-"
      },
      "source": [
        "nome = \"Steve\""
      ],
      "execution_count": null,
      "outputs": []
    },
    {
      "cell_type": "code",
      "metadata": {
        "id": "lpCQiNZdKFIq"
      },
      "source": [
        "sobrenome = \"Jobs\""
      ],
      "execution_count": null,
      "outputs": []
    },
    {
      "cell_type": "code",
      "metadata": {
        "id": "kzfVuN51KLX2"
      },
      "source": [
        "fullname = nome + \" \" + sobrenome"
      ],
      "execution_count": null,
      "outputs": []
    },
    {
      "cell_type": "code",
      "metadata": {
        "id": "ij2OglkvKRQy",
        "colab": {
          "base_uri": "https://localhost:8080/",
          "height": 35
        },
        "outputId": "4a43c167-48cc-4f03-dcb7-bd13af71d115"
      },
      "source": [
        "fullname"
      ],
      "execution_count": null,
      "outputs": [
        {
          "output_type": "execute_result",
          "data": {
            "application/vnd.google.colaboratory.intrinsic+json": {
              "type": "string"
            },
            "text/plain": [
              "'Steve Jobs'"
            ]
          },
          "metadata": {
            "tags": []
          },
          "execution_count": 56
        }
      ]
    }
  ]
}